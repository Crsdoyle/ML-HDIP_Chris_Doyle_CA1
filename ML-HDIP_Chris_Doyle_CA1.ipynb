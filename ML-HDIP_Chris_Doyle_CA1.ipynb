{
 "cells": [
  {
   "cell_type": "code",
   "execution_count": 1,
   "id": "75853073-3089-401c-8cf3-7f474b77eac4",
   "metadata": {},
   "outputs": [],
   "source": [
    "import numpy as np\n",
    "import pandas as pd\n",
    "import scipy.stats as stats\n",
    "import matplotlib.pyplot as plt\n",
    "import sklearn\n",
    "import warnings \n",
    "warnings.filterwarnings('ignore')\n",
    "import seaborn as sns\n",
    "%matplotlib inline"
   ]
  },
  {
   "cell_type": "markdown",
   "id": "89f95feb-78ea-4e1e-975d-6a67979dd36e",
   "metadata": {},
   "source": [
    "Here we uploaded all the realivent libaries "
   ]
  },
  {
   "cell_type": "code",
   "execution_count": 2,
   "id": "44c594e8-5293-407f-a99f-33b964077580",
   "metadata": {},
   "outputs": [],
   "source": [
    "df_obese = pd.read_csv(\"ObesityDataSet_raw_and_data_sinthetic.csv\")"
   ]
  },
  {
   "cell_type": "markdown",
   "id": "82352ee8-e921-43f8-a13e-a67c3b665952",
   "metadata": {},
   "source": [
    "we loaded the data set"
   ]
  },
  {
   "cell_type": "code",
   "execution_count": 3,
   "id": "cac41687-9c0d-48e3-a471-c660766ccae3",
   "metadata": {},
   "outputs": [
    {
     "data": {
      "text/html": [
       "<div>\n",
       "<style scoped>\n",
       "    .dataframe tbody tr th:only-of-type {\n",
       "        vertical-align: middle;\n",
       "    }\n",
       "\n",
       "    .dataframe tbody tr th {\n",
       "        vertical-align: top;\n",
       "    }\n",
       "\n",
       "    .dataframe thead th {\n",
       "        text-align: right;\n",
       "    }\n",
       "</style>\n",
       "<table border=\"1\" class=\"dataframe\">\n",
       "  <thead>\n",
       "    <tr style=\"text-align: right;\">\n",
       "      <th></th>\n",
       "      <th>Gender</th>\n",
       "      <th>Age</th>\n",
       "      <th>Height</th>\n",
       "      <th>Weight</th>\n",
       "      <th>family_history_with_overweight</th>\n",
       "      <th>FAVC</th>\n",
       "      <th>FCVC</th>\n",
       "      <th>NCP</th>\n",
       "      <th>CAEC</th>\n",
       "      <th>SMOKE</th>\n",
       "      <th>CH2O</th>\n",
       "      <th>SCC</th>\n",
       "      <th>FAF</th>\n",
       "      <th>TUE</th>\n",
       "      <th>CALC</th>\n",
       "      <th>MTRANS</th>\n",
       "      <th>NObeyesdad</th>\n",
       "    </tr>\n",
       "  </thead>\n",
       "  <tbody>\n",
       "    <tr>\n",
       "      <th>0</th>\n",
       "      <td>Female</td>\n",
       "      <td>21.0</td>\n",
       "      <td>1.62</td>\n",
       "      <td>64.0</td>\n",
       "      <td>yes</td>\n",
       "      <td>no</td>\n",
       "      <td>2.0</td>\n",
       "      <td>3.0</td>\n",
       "      <td>Sometimes</td>\n",
       "      <td>no</td>\n",
       "      <td>2.0</td>\n",
       "      <td>no</td>\n",
       "      <td>0.0</td>\n",
       "      <td>1.0</td>\n",
       "      <td>no</td>\n",
       "      <td>Public_Transportation</td>\n",
       "      <td>Normal_Weight</td>\n",
       "    </tr>\n",
       "    <tr>\n",
       "      <th>1</th>\n",
       "      <td>Female</td>\n",
       "      <td>21.0</td>\n",
       "      <td>1.52</td>\n",
       "      <td>56.0</td>\n",
       "      <td>yes</td>\n",
       "      <td>no</td>\n",
       "      <td>3.0</td>\n",
       "      <td>3.0</td>\n",
       "      <td>Sometimes</td>\n",
       "      <td>yes</td>\n",
       "      <td>3.0</td>\n",
       "      <td>yes</td>\n",
       "      <td>3.0</td>\n",
       "      <td>0.0</td>\n",
       "      <td>Sometimes</td>\n",
       "      <td>Public_Transportation</td>\n",
       "      <td>Normal_Weight</td>\n",
       "    </tr>\n",
       "    <tr>\n",
       "      <th>2</th>\n",
       "      <td>Male</td>\n",
       "      <td>23.0</td>\n",
       "      <td>1.80</td>\n",
       "      <td>77.0</td>\n",
       "      <td>yes</td>\n",
       "      <td>no</td>\n",
       "      <td>2.0</td>\n",
       "      <td>3.0</td>\n",
       "      <td>Sometimes</td>\n",
       "      <td>no</td>\n",
       "      <td>2.0</td>\n",
       "      <td>no</td>\n",
       "      <td>2.0</td>\n",
       "      <td>1.0</td>\n",
       "      <td>Frequently</td>\n",
       "      <td>Public_Transportation</td>\n",
       "      <td>Normal_Weight</td>\n",
       "    </tr>\n",
       "    <tr>\n",
       "      <th>3</th>\n",
       "      <td>Male</td>\n",
       "      <td>27.0</td>\n",
       "      <td>1.80</td>\n",
       "      <td>87.0</td>\n",
       "      <td>no</td>\n",
       "      <td>no</td>\n",
       "      <td>3.0</td>\n",
       "      <td>3.0</td>\n",
       "      <td>Sometimes</td>\n",
       "      <td>no</td>\n",
       "      <td>2.0</td>\n",
       "      <td>no</td>\n",
       "      <td>2.0</td>\n",
       "      <td>0.0</td>\n",
       "      <td>Frequently</td>\n",
       "      <td>Walking</td>\n",
       "      <td>Overweight_Level_I</td>\n",
       "    </tr>\n",
       "    <tr>\n",
       "      <th>4</th>\n",
       "      <td>Male</td>\n",
       "      <td>22.0</td>\n",
       "      <td>1.78</td>\n",
       "      <td>89.8</td>\n",
       "      <td>no</td>\n",
       "      <td>no</td>\n",
       "      <td>2.0</td>\n",
       "      <td>1.0</td>\n",
       "      <td>Sometimes</td>\n",
       "      <td>no</td>\n",
       "      <td>2.0</td>\n",
       "      <td>no</td>\n",
       "      <td>0.0</td>\n",
       "      <td>0.0</td>\n",
       "      <td>Sometimes</td>\n",
       "      <td>Public_Transportation</td>\n",
       "      <td>Overweight_Level_II</td>\n",
       "    </tr>\n",
       "  </tbody>\n",
       "</table>\n",
       "</div>"
      ],
      "text/plain": [
       "   Gender   Age  Height  Weight family_history_with_overweight FAVC  FCVC  \\\n",
       "0  Female  21.0    1.62    64.0                            yes   no   2.0   \n",
       "1  Female  21.0    1.52    56.0                            yes   no   3.0   \n",
       "2    Male  23.0    1.80    77.0                            yes   no   2.0   \n",
       "3    Male  27.0    1.80    87.0                             no   no   3.0   \n",
       "4    Male  22.0    1.78    89.8                             no   no   2.0   \n",
       "\n",
       "   NCP       CAEC SMOKE  CH2O  SCC  FAF  TUE        CALC  \\\n",
       "0  3.0  Sometimes    no   2.0   no  0.0  1.0          no   \n",
       "1  3.0  Sometimes   yes   3.0  yes  3.0  0.0   Sometimes   \n",
       "2  3.0  Sometimes    no   2.0   no  2.0  1.0  Frequently   \n",
       "3  3.0  Sometimes    no   2.0   no  2.0  0.0  Frequently   \n",
       "4  1.0  Sometimes    no   2.0   no  0.0  0.0   Sometimes   \n",
       "\n",
       "                  MTRANS           NObeyesdad  \n",
       "0  Public_Transportation        Normal_Weight  \n",
       "1  Public_Transportation        Normal_Weight  \n",
       "2  Public_Transportation        Normal_Weight  \n",
       "3                Walking   Overweight_Level_I  \n",
       "4  Public_Transportation  Overweight_Level_II  "
      ]
     },
     "execution_count": 3,
     "metadata": {},
     "output_type": "execute_result"
    }
   ],
   "source": [
    "df_obese.head()"
   ]
  },
  {
   "cell_type": "markdown",
   "id": "6653e8f4-166d-4303-957e-a57606a2db66",
   "metadata": {},
   "source": [
    "head.() alows us to see the first 5 rows of the data set"
   ]
  },
  {
   "cell_type": "code",
   "execution_count": 4,
   "id": "84292eb4-547d-47df-9d8a-73b442cde227",
   "metadata": {
    "scrolled": true
   },
   "outputs": [
    {
     "data": {
      "text/plain": [
       "<bound method NDFrame.describe of 0       1\n",
       "1       1\n",
       "2       1\n",
       "3       0\n",
       "4       0\n",
       "       ..\n",
       "2106    1\n",
       "2107    1\n",
       "2108    1\n",
       "2109    1\n",
       "2110    1\n",
       "Name: family_history_with_overweight, Length: 2111, dtype: int64>"
      ]
     },
     "execution_count": 4,
     "metadata": {},
     "output_type": "execute_result"
    }
   ],
   "source": [
    "mapping = {'yes': 1, 'no': 0}\n",
    "\n",
    "df_obese['family_history_with_overweight'] = df_obese['family_history_with_overweight'].map(mapping)\n",
    "\n",
    "df_obese[\"family_history_with_overweight\"].describe\n"
   ]
  },
  {
   "cell_type": "markdown",
   "id": "f5cf44de-51e7-4bc9-a3f3-881a0641f0a3",
   "metadata": {},
   "source": [
    "I mapped \"family_history_with_overweight\" from Yes/No to 1/0"
   ]
  },
  {
   "cell_type": "code",
   "execution_count": 5,
   "id": "79670a77-77c6-42a8-82a0-314e4bdbc7d5",
   "metadata": {},
   "outputs": [],
   "source": [
    "mapping = {'yes': 1, 'no': 0}\n",
    "\n",
    "df_obese['SMOKE'] = df_obese['SMOKE'].map(mapping)\n",
    "\n"
   ]
  },
  {
   "cell_type": "markdown",
   "id": "ab5a993f-2e99-4423-98f3-9ea499cae6da",
   "metadata": {},
   "source": [
    "I mapped \"SMOKE\" from Yes/No to 1/0"
   ]
  },
  {
   "cell_type": "code",
   "execution_count": 6,
   "id": "b714cf46-ea66-4ea2-aca8-b1e8c5199902",
   "metadata": {},
   "outputs": [
    {
     "data": {
      "text/plain": [
       "(2111, 17)"
      ]
     },
     "execution_count": 6,
     "metadata": {},
     "output_type": "execute_result"
    }
   ],
   "source": [
    "df_obese.shape"
   ]
  },
  {
   "cell_type": "code",
   "execution_count": 7,
   "id": "0cdd094a-2466-492b-a7ce-77a63f9bdfb8",
   "metadata": {},
   "outputs": [
    {
     "data": {
      "text/plain": [
       "Gender                            0\n",
       "Age                               0\n",
       "Height                            0\n",
       "Weight                            0\n",
       "family_history_with_overweight    0\n",
       "FAVC                              0\n",
       "FCVC                              0\n",
       "NCP                               0\n",
       "CAEC                              0\n",
       "SMOKE                             0\n",
       "CH2O                              0\n",
       "SCC                               0\n",
       "FAF                               0\n",
       "TUE                               0\n",
       "CALC                              0\n",
       "MTRANS                            0\n",
       "NObeyesdad                        0\n",
       "dtype: int64"
      ]
     },
     "execution_count": 7,
     "metadata": {},
     "output_type": "execute_result"
    }
   ],
   "source": [
    "df_obese.isnull().sum()"
   ]
  },
  {
   "cell_type": "markdown",
   "id": "95871dd0-84e1-46e6-b7e7-86271893618b",
   "metadata": {},
   "source": [
    "No null values"
   ]
  },
  {
   "cell_type": "code",
   "execution_count": 8,
   "id": "ccfd00c3-738e-432a-9657-3e7e1d79e9c4",
   "metadata": {
    "scrolled": true
   },
   "outputs": [
    {
     "data": {
      "text/html": [
       "<div>\n",
       "<style scoped>\n",
       "    .dataframe tbody tr th:only-of-type {\n",
       "        vertical-align: middle;\n",
       "    }\n",
       "\n",
       "    .dataframe tbody tr th {\n",
       "        vertical-align: top;\n",
       "    }\n",
       "\n",
       "    .dataframe thead th {\n",
       "        text-align: right;\n",
       "    }\n",
       "</style>\n",
       "<table border=\"1\" class=\"dataframe\">\n",
       "  <thead>\n",
       "    <tr style=\"text-align: right;\">\n",
       "      <th></th>\n",
       "      <th>Age</th>\n",
       "      <th>Height</th>\n",
       "      <th>Weight</th>\n",
       "      <th>family_history_with_overweight</th>\n",
       "      <th>FCVC</th>\n",
       "      <th>NCP</th>\n",
       "      <th>SMOKE</th>\n",
       "      <th>CH2O</th>\n",
       "      <th>FAF</th>\n",
       "      <th>TUE</th>\n",
       "    </tr>\n",
       "  </thead>\n",
       "  <tbody>\n",
       "    <tr>\n",
       "      <th>count</th>\n",
       "      <td>2111.000000</td>\n",
       "      <td>2111.000000</td>\n",
       "      <td>2111.000000</td>\n",
       "      <td>2111.000000</td>\n",
       "      <td>2111.000000</td>\n",
       "      <td>2111.000000</td>\n",
       "      <td>2111.000000</td>\n",
       "      <td>2111.000000</td>\n",
       "      <td>2111.000000</td>\n",
       "      <td>2111.000000</td>\n",
       "    </tr>\n",
       "    <tr>\n",
       "      <th>mean</th>\n",
       "      <td>24.312600</td>\n",
       "      <td>1.701677</td>\n",
       "      <td>86.586058</td>\n",
       "      <td>0.817622</td>\n",
       "      <td>2.419043</td>\n",
       "      <td>2.685628</td>\n",
       "      <td>0.020843</td>\n",
       "      <td>2.008011</td>\n",
       "      <td>1.010298</td>\n",
       "      <td>0.657866</td>\n",
       "    </tr>\n",
       "    <tr>\n",
       "      <th>std</th>\n",
       "      <td>6.345968</td>\n",
       "      <td>0.093305</td>\n",
       "      <td>26.191172</td>\n",
       "      <td>0.386247</td>\n",
       "      <td>0.533927</td>\n",
       "      <td>0.778039</td>\n",
       "      <td>0.142893</td>\n",
       "      <td>0.612953</td>\n",
       "      <td>0.850592</td>\n",
       "      <td>0.608927</td>\n",
       "    </tr>\n",
       "    <tr>\n",
       "      <th>min</th>\n",
       "      <td>14.000000</td>\n",
       "      <td>1.450000</td>\n",
       "      <td>39.000000</td>\n",
       "      <td>0.000000</td>\n",
       "      <td>1.000000</td>\n",
       "      <td>1.000000</td>\n",
       "      <td>0.000000</td>\n",
       "      <td>1.000000</td>\n",
       "      <td>0.000000</td>\n",
       "      <td>0.000000</td>\n",
       "    </tr>\n",
       "    <tr>\n",
       "      <th>25%</th>\n",
       "      <td>19.947192</td>\n",
       "      <td>1.630000</td>\n",
       "      <td>65.473343</td>\n",
       "      <td>1.000000</td>\n",
       "      <td>2.000000</td>\n",
       "      <td>2.658738</td>\n",
       "      <td>0.000000</td>\n",
       "      <td>1.584812</td>\n",
       "      <td>0.124505</td>\n",
       "      <td>0.000000</td>\n",
       "    </tr>\n",
       "    <tr>\n",
       "      <th>50%</th>\n",
       "      <td>22.777890</td>\n",
       "      <td>1.700499</td>\n",
       "      <td>83.000000</td>\n",
       "      <td>1.000000</td>\n",
       "      <td>2.385502</td>\n",
       "      <td>3.000000</td>\n",
       "      <td>0.000000</td>\n",
       "      <td>2.000000</td>\n",
       "      <td>1.000000</td>\n",
       "      <td>0.625350</td>\n",
       "    </tr>\n",
       "    <tr>\n",
       "      <th>75%</th>\n",
       "      <td>26.000000</td>\n",
       "      <td>1.768464</td>\n",
       "      <td>107.430682</td>\n",
       "      <td>1.000000</td>\n",
       "      <td>3.000000</td>\n",
       "      <td>3.000000</td>\n",
       "      <td>0.000000</td>\n",
       "      <td>2.477420</td>\n",
       "      <td>1.666678</td>\n",
       "      <td>1.000000</td>\n",
       "    </tr>\n",
       "    <tr>\n",
       "      <th>max</th>\n",
       "      <td>61.000000</td>\n",
       "      <td>1.980000</td>\n",
       "      <td>173.000000</td>\n",
       "      <td>1.000000</td>\n",
       "      <td>3.000000</td>\n",
       "      <td>4.000000</td>\n",
       "      <td>1.000000</td>\n",
       "      <td>3.000000</td>\n",
       "      <td>3.000000</td>\n",
       "      <td>2.000000</td>\n",
       "    </tr>\n",
       "  </tbody>\n",
       "</table>\n",
       "</div>"
      ],
      "text/plain": [
       "               Age       Height       Weight  family_history_with_overweight  \\\n",
       "count  2111.000000  2111.000000  2111.000000                     2111.000000   \n",
       "mean     24.312600     1.701677    86.586058                        0.817622   \n",
       "std       6.345968     0.093305    26.191172                        0.386247   \n",
       "min      14.000000     1.450000    39.000000                        0.000000   \n",
       "25%      19.947192     1.630000    65.473343                        1.000000   \n",
       "50%      22.777890     1.700499    83.000000                        1.000000   \n",
       "75%      26.000000     1.768464   107.430682                        1.000000   \n",
       "max      61.000000     1.980000   173.000000                        1.000000   \n",
       "\n",
       "              FCVC          NCP        SMOKE         CH2O          FAF  \\\n",
       "count  2111.000000  2111.000000  2111.000000  2111.000000  2111.000000   \n",
       "mean      2.419043     2.685628     0.020843     2.008011     1.010298   \n",
       "std       0.533927     0.778039     0.142893     0.612953     0.850592   \n",
       "min       1.000000     1.000000     0.000000     1.000000     0.000000   \n",
       "25%       2.000000     2.658738     0.000000     1.584812     0.124505   \n",
       "50%       2.385502     3.000000     0.000000     2.000000     1.000000   \n",
       "75%       3.000000     3.000000     0.000000     2.477420     1.666678   \n",
       "max       3.000000     4.000000     1.000000     3.000000     3.000000   \n",
       "\n",
       "               TUE  \n",
       "count  2111.000000  \n",
       "mean      0.657866  \n",
       "std       0.608927  \n",
       "min       0.000000  \n",
       "25%       0.000000  \n",
       "50%       0.625350  \n",
       "75%       1.000000  \n",
       "max       2.000000  "
      ]
     },
     "execution_count": 8,
     "metadata": {},
     "output_type": "execute_result"
    }
   ],
   "source": [
    "df_obese.describe()"
   ]
  },
  {
   "cell_type": "markdown",
   "id": "c81a3520-ebfe-4119-92a9-9e44188a0549",
   "metadata": {},
   "source": [
    "looked for differences between mean and 50%"
   ]
  },
  {
   "cell_type": "code",
   "execution_count": 9,
   "id": "6a9a8e95-49e7-458e-8a97-d0aacc49bdcc",
   "metadata": {
    "scrolled": true
   },
   "outputs": [
    {
     "name": "stdout",
     "output_type": "stream",
     "text": [
      "            Age    Height      Weight  family_history_with_overweight  SMOKE\n",
      "0     21.000000  1.620000   64.000000                               1      0\n",
      "1     21.000000  1.520000   56.000000                               1      1\n",
      "2     23.000000  1.800000   77.000000                               1      0\n",
      "3     27.000000  1.800000   87.000000                               0      0\n",
      "4     22.000000  1.780000   89.800000                               0      0\n",
      "...         ...       ...         ...                             ...    ...\n",
      "2106  20.976842  1.710730  131.408528                               1      0\n",
      "2107  21.982942  1.748584  133.742943                               1      0\n",
      "2108  22.524036  1.752206  133.689352                               1      0\n",
      "2109  24.361936  1.739450  133.346641                               1      0\n",
      "2110  23.664709  1.738836  133.472641                               1      0\n",
      "\n",
      "[2111 rows x 5 columns]\n"
     ]
    }
   ],
   "source": [
    "columns_to_keep = ['Age', 'Height', 'Weight', 'family_history_with_overweight', 'SMOKE',]\n",
    "\n",
    "df = df_obese[columns_to_keep]\n",
    "\n",
    "print(df)\n"
   ]
  },
  {
   "cell_type": "markdown",
   "id": "ba82af4a-9d5b-4470-97de-0f23cf65c40b",
   "metadata": {},
   "source": [
    "removed surplus features "
   ]
  },
  {
   "cell_type": "code",
   "execution_count": 10,
   "id": "c4aec206-dd13-4370-bb7c-363a0a898fa5",
   "metadata": {
    "scrolled": true
   },
   "outputs": [
    {
     "name": "stdout",
     "output_type": "stream",
     "text": [
      "<class 'pandas.core.frame.DataFrame'>\n",
      "RangeIndex: 2111 entries, 0 to 2110\n",
      "Data columns (total 5 columns):\n",
      " #   Column                          Non-Null Count  Dtype  \n",
      "---  ------                          --------------  -----  \n",
      " 0   Age                             2111 non-null   float64\n",
      " 1   Height                          2111 non-null   float64\n",
      " 2   Weight                          2111 non-null   float64\n",
      " 3   family_history_with_overweight  2111 non-null   int64  \n",
      " 4   SMOKE                           2111 non-null   int64  \n",
      "dtypes: float64(3), int64(2)\n",
      "memory usage: 82.6 KB\n"
     ]
    }
   ],
   "source": [
    "df.info()"
   ]
  },
  {
   "cell_type": "code",
   "execution_count": 11,
   "id": "ed6001a1-ee98-4d7c-910b-5a9370ed5775",
   "metadata": {},
   "outputs": [],
   "source": [
    "df.drop(columns=[\"family_history_with_overweight\"], inplace=True)"
   ]
  },
  {
   "cell_type": "markdown",
   "id": "e0ef7327-c1a7-4caa-8858-a2a27d516bad",
   "metadata": {},
   "source": [
    "droped target column "
   ]
  },
  {
   "cell_type": "code",
   "execution_count": 12,
   "id": "ccfdec44-854b-44e9-8849-818d98b2c14a",
   "metadata": {},
   "outputs": [
    {
     "data": {
      "text/html": [
       "<div>\n",
       "<style scoped>\n",
       "    .dataframe tbody tr th:only-of-type {\n",
       "        vertical-align: middle;\n",
       "    }\n",
       "\n",
       "    .dataframe tbody tr th {\n",
       "        vertical-align: top;\n",
       "    }\n",
       "\n",
       "    .dataframe thead th {\n",
       "        text-align: right;\n",
       "    }\n",
       "</style>\n",
       "<table border=\"1\" class=\"dataframe\">\n",
       "  <thead>\n",
       "    <tr style=\"text-align: right;\">\n",
       "      <th></th>\n",
       "      <th>Age</th>\n",
       "      <th>Height</th>\n",
       "      <th>Weight</th>\n",
       "      <th>SMOKE</th>\n",
       "    </tr>\n",
       "  </thead>\n",
       "  <tbody>\n",
       "    <tr>\n",
       "      <th>0</th>\n",
       "      <td>21.0</td>\n",
       "      <td>1.62</td>\n",
       "      <td>64.0</td>\n",
       "      <td>0</td>\n",
       "    </tr>\n",
       "    <tr>\n",
       "      <th>1</th>\n",
       "      <td>21.0</td>\n",
       "      <td>1.52</td>\n",
       "      <td>56.0</td>\n",
       "      <td>1</td>\n",
       "    </tr>\n",
       "    <tr>\n",
       "      <th>2</th>\n",
       "      <td>23.0</td>\n",
       "      <td>1.80</td>\n",
       "      <td>77.0</td>\n",
       "      <td>0</td>\n",
       "    </tr>\n",
       "    <tr>\n",
       "      <th>3</th>\n",
       "      <td>27.0</td>\n",
       "      <td>1.80</td>\n",
       "      <td>87.0</td>\n",
       "      <td>0</td>\n",
       "    </tr>\n",
       "    <tr>\n",
       "      <th>4</th>\n",
       "      <td>22.0</td>\n",
       "      <td>1.78</td>\n",
       "      <td>89.8</td>\n",
       "      <td>0</td>\n",
       "    </tr>\n",
       "  </tbody>\n",
       "</table>\n",
       "</div>"
      ],
      "text/plain": [
       "    Age  Height  Weight  SMOKE\n",
       "0  21.0    1.62    64.0      0\n",
       "1  21.0    1.52    56.0      1\n",
       "2  23.0    1.80    77.0      0\n",
       "3  27.0    1.80    87.0      0\n",
       "4  22.0    1.78    89.8      0"
      ]
     },
     "execution_count": 12,
     "metadata": {},
     "output_type": "execute_result"
    }
   ],
   "source": [
    "df.head()"
   ]
  },
  {
   "cell_type": "code",
   "execution_count": 13,
   "id": "abe64bd2-f990-4152-8035-529d73cfb9d2",
   "metadata": {},
   "outputs": [],
   "source": [
    "from sklearn.preprocessing import StandardScaler\n",
    "from sklearn.decomposition import PCA\n",
    "\n",
    "X = df[['SMOKE', 'Height', 'Weight', 'Age']]\n",
    "\n",
    "scaler = StandardScaler()\n",
    "X_scaled = scaler.fit_transform(X)\n",
    "\n",
    "pca = PCA(n_components=2)\n",
    "X_pca = pca.fit_transform(X_scaled)\n"
   ]
  },
  {
   "cell_type": "markdown",
   "id": "e176c91a-79b7-47d2-b94f-a3cee4d7d877",
   "metadata": {},
   "source": [
    "began to scale the data and then used PCA on the remaining observations "
   ]
  },
  {
   "cell_type": "code",
   "execution_count": 14,
   "id": "8800af9b-8731-456a-a1e3-c0122d6e8453",
   "metadata": {},
   "outputs": [
    {
     "data": {
      "text/plain": [
       "array([[ 0.15493823,  0.64058087,  0.70032235,  0.27422419],\n",
       "       [ 0.61600883, -0.35287703, -0.08716405,  0.69886576]])"
      ]
     },
     "execution_count": 14,
     "metadata": {},
     "output_type": "execute_result"
    }
   ],
   "source": [
    "pca.components_"
   ]
  },
  {
   "cell_type": "code",
   "execution_count": 15,
   "id": "3a8b5440-8e1b-4dce-abbc-1f59b69129a2",
   "metadata": {},
   "outputs": [
    {
     "name": "stdout",
     "output_type": "stream",
     "text": [
      "[0.37716006 0.26723119]\n"
     ]
    }
   ],
   "source": [
    "print(pca.explained_variance_ratio_)"
   ]
  },
  {
   "cell_type": "code",
   "execution_count": 16,
   "id": "264807f7-878c-4150-a7f1-134928fe31eb",
   "metadata": {},
   "outputs": [
    {
     "data": {
      "text/plain": [
       "0.64519381"
      ]
     },
     "execution_count": 16,
     "metadata": {},
     "output_type": "execute_result"
    }
   ],
   "source": [
    "0.37296997 + 0.27222384"
   ]
  },
  {
   "cell_type": "code",
   "execution_count": 17,
   "id": "291c0475-bf2c-4961-95f5-d0d899161a79",
   "metadata": {},
   "outputs": [
    {
     "name": "stdout",
     "output_type": "stream",
     "text": [
      "[[-1.33073922 -0.07061127]\n",
      " [-1.14685829  4.64630513]\n",
      " [ 0.33946993 -0.57449604]\n",
      " ...\n",
      " [ 1.5068602  -0.63483289]\n",
      " [ 1.48953651 -0.38298637]\n",
      " [ 1.45855405 -0.45788519]] 64.43912452903801\n"
     ]
    }
   ],
   "source": [
    "total_var = pca.explained_variance_ratio_.sum() * 100\n",
    "print(X_pca, total_var)"
   ]
  },
  {
   "cell_type": "code",
   "execution_count": 18,
   "id": "f8624afe-db31-48a8-baac-8566dfaf7164",
   "metadata": {},
   "outputs": [
    {
     "name": "stdout",
     "output_type": "stream",
     "text": [
      "PCA components:\n",
      "[[ 0.15493823  0.64058087  0.70032235  0.27422419]\n",
      " [ 0.61600883 -0.35287703 -0.08716405  0.69886576]]\n"
     ]
    }
   ],
   "source": [
    "print(\"PCA components:\\n{}\".format(pca.components_))"
   ]
  },
  {
   "cell_type": "code",
   "execution_count": 19,
   "id": "07025500-09b2-4178-886e-ab8f388f4027",
   "metadata": {},
   "outputs": [
    {
     "data": {
      "text/plain": [
       "(2111, 2)"
      ]
     },
     "execution_count": 19,
     "metadata": {},
     "output_type": "execute_result"
    }
   ],
   "source": [
    "X_pca.shape"
   ]
  },
  {
   "cell_type": "markdown",
   "id": "155054b3-fb52-4120-b783-f02c545812f3",
   "metadata": {},
   "source": [
    "from 4 features to 2 "
   ]
  },
  {
   "cell_type": "code",
   "execution_count": 20,
   "id": "114fce58-5809-4e01-ae5b-373b6e156243",
   "metadata": {
    "scrolled": true
   },
   "outputs": [
    {
     "name": "stdout",
     "output_type": "stream",
     "text": [
      "<class 'numpy.ndarray'>\n",
      "0    1\n",
      "1    1\n",
      "2    1\n",
      "3    0\n",
      "4    0\n",
      "Name: family_history_with_overweight, dtype: int64\n",
      "           PC1       PC2  family_history_with_overweight\n",
      "0    -1.330739 -0.070611                               1\n",
      "1    -1.146858  4.646305                               1\n",
      "2     0.339470 -0.574496                               1\n",
      "3     0.779812 -0.167169                               0\n",
      "4     0.501244 -0.651601                               0\n",
      "...        ...       ...                             ...\n",
      "2106  1.094166 -0.640771                               1\n",
      "2107  1.460033 -0.680913                               1\n",
      "2108  1.506860 -0.634833                               1\n",
      "2109  1.489537 -0.382986                               1\n",
      "2110  1.458554 -0.457885                               1\n",
      "\n",
      "[2111 rows x 3 columns]\n"
     ]
    }
   ],
   "source": [
    "print(type(X_pca))\n",
    "print(df_obese['family_history_with_overweight'].head())\n",
    "X_pca = pd.DataFrame(X_pca, columns=['PC1', 'PC2'])\n",
    "X_pca_with_target = pd.concat([X_pca, df_obese['family_history_with_overweight']], axis=1)\n",
    "print(X_pca_with_target)\n"
   ]
  },
  {
   "cell_type": "markdown",
   "id": "7ab39d30-7efc-4c14-beb8-88b531b464e6",
   "metadata": {},
   "source": [
    "Read back in the origianl target variable "
   ]
  },
  {
   "cell_type": "code",
   "execution_count": 21,
   "id": "ee8f2c79-38a9-4916-8917-0b18f9323f53",
   "metadata": {},
   "outputs": [
    {
     "data": {
      "text/html": [
       "<div>\n",
       "<style scoped>\n",
       "    .dataframe tbody tr th:only-of-type {\n",
       "        vertical-align: middle;\n",
       "    }\n",
       "\n",
       "    .dataframe tbody tr th {\n",
       "        vertical-align: top;\n",
       "    }\n",
       "\n",
       "    .dataframe thead th {\n",
       "        text-align: right;\n",
       "    }\n",
       "</style>\n",
       "<table border=\"1\" class=\"dataframe\">\n",
       "  <thead>\n",
       "    <tr style=\"text-align: right;\">\n",
       "      <th></th>\n",
       "      <th>PC1</th>\n",
       "      <th>PC2</th>\n",
       "      <th>family_history_with_overweight</th>\n",
       "    </tr>\n",
       "  </thead>\n",
       "  <tbody>\n",
       "    <tr>\n",
       "      <th>0</th>\n",
       "      <td>-1.330739</td>\n",
       "      <td>-0.070611</td>\n",
       "      <td>1</td>\n",
       "    </tr>\n",
       "    <tr>\n",
       "      <th>1</th>\n",
       "      <td>-1.146858</td>\n",
       "      <td>4.646305</td>\n",
       "      <td>1</td>\n",
       "    </tr>\n",
       "    <tr>\n",
       "      <th>2</th>\n",
       "      <td>0.339470</td>\n",
       "      <td>-0.574496</td>\n",
       "      <td>1</td>\n",
       "    </tr>\n",
       "    <tr>\n",
       "      <th>3</th>\n",
       "      <td>0.779812</td>\n",
       "      <td>-0.167169</td>\n",
       "      <td>0</td>\n",
       "    </tr>\n",
       "    <tr>\n",
       "      <th>4</th>\n",
       "      <td>0.501244</td>\n",
       "      <td>-0.651601</td>\n",
       "      <td>0</td>\n",
       "    </tr>\n",
       "  </tbody>\n",
       "</table>\n",
       "</div>"
      ],
      "text/plain": [
       "        PC1       PC2  family_history_with_overweight\n",
       "0 -1.330739 -0.070611                               1\n",
       "1 -1.146858  4.646305                               1\n",
       "2  0.339470 -0.574496                               1\n",
       "3  0.779812 -0.167169                               0\n",
       "4  0.501244 -0.651601                               0"
      ]
     },
     "execution_count": 21,
     "metadata": {},
     "output_type": "execute_result"
    }
   ],
   "source": [
    "X_pca_with_target.head()"
   ]
  },
  {
   "cell_type": "markdown",
   "id": "a93aa3b7-e518-44a5-b67c-d4063cda12e2",
   "metadata": {},
   "source": [
    "New list of variables "
   ]
  },
  {
   "cell_type": "code",
   "execution_count": 22,
   "id": "1633efcc-dfd0-4baa-a779-726055ce83ce",
   "metadata": {},
   "outputs": [
    {
     "name": "stdout",
     "output_type": "stream",
     "text": [
      "<class 'pandas.core.frame.DataFrame'>\n",
      "RangeIndex: 2111 entries, 0 to 2110\n",
      "Data columns (total 3 columns):\n",
      " #   Column                          Non-Null Count  Dtype  \n",
      "---  ------                          --------------  -----  \n",
      " 0   PC1                             2111 non-null   float64\n",
      " 1   PC2                             2111 non-null   float64\n",
      " 2   family_history_with_overweight  2111 non-null   int64  \n",
      "dtypes: float64(2), int64(1)\n",
      "memory usage: 49.6 KB\n"
     ]
    }
   ],
   "source": [
    "X_pca_with_target.info()"
   ]
  },
  {
   "cell_type": "code",
   "execution_count": 23,
   "id": "d8ac5008-72c1-442b-9b51-b97e8fd99e73",
   "metadata": {
    "scrolled": true
   },
   "outputs": [
    {
     "data": {
      "text/plain": [
       "array([[-1.33073922, -0.07061127,  1.        ],\n",
       "       [-1.14685829,  4.64630513,  1.        ],\n",
       "       [ 0.33946993, -0.57449604,  1.        ],\n",
       "       ...,\n",
       "       [ 1.5068602 , -0.63483289,  1.        ],\n",
       "       [ 1.48953651, -0.38298637,  1.        ],\n",
       "       [ 1.45855405, -0.45788519,  1.        ]])"
      ]
     },
     "execution_count": 23,
     "metadata": {},
     "output_type": "execute_result"
    }
   ],
   "source": [
    "X_pca_with_target.values"
   ]
  },
  {
   "cell_type": "code",
   "execution_count": 24,
   "id": "4ab95a58-fb53-4833-b6d0-178e81562233",
   "metadata": {},
   "outputs": [],
   "source": [
    "from sklearn.model_selection import train_test_split\n",
    "X = X_pca_with_target[['PC1', 'PC2']] \n",
    "y = X_pca_with_target['family_history_with_overweight']\n",
    "\n",
    "X_train, X_validation, y_train, y_validation = train_test_split(X, y, test_size=0.2, random_state=1)\n"
   ]
  },
  {
   "cell_type": "code",
   "execution_count": 25,
   "id": "11b6c3ec-5a83-48dc-90f9-c3ad0f86c6e9",
   "metadata": {},
   "outputs": [
    {
     "data": {
      "text/plain": [
       "((1688, 2), (423, 2), (1688,), (423,))"
      ]
     },
     "execution_count": 25,
     "metadata": {},
     "output_type": "execute_result"
    }
   ],
   "source": [
    "X_train.shape, X_validation.shape, y_train.shape, y_validation.shape"
   ]
  },
  {
   "cell_type": "markdown",
   "id": "980642a0-78d0-4b93-8cc6-4aabcfc2ef28",
   "metadata": {},
   "source": [
    "split the data with a ration of 20/80. testing 20, training 80"
   ]
  },
  {
   "cell_type": "code",
   "execution_count": 26,
   "id": "6b5d635f-7df9-4ff8-8c60-cac94c1ddc1b",
   "metadata": {},
   "outputs": [
    {
     "name": "stdout",
     "output_type": "stream",
     "text": [
      "LR: Mean Accuracy: 0.847175260636799, Std Dev: 0.024832377073835777\n",
      "LDA: Mean Accuracy: 0.8519160326852633, Std Dev: 0.027535560694043535\n",
      "KNN: Mean Accuracy: 0.861996336996337, Std Dev: 0.023982442568552868\n",
      "CART: Mean Accuracy: 0.81580022541561, Std Dev: 0.026941243526852763\n"
     ]
    }
   ],
   "source": [
    "from sklearn.model_selection import StratifiedKFold\n",
    "from sklearn.model_selection import cross_val_score\n",
    "from sklearn.discriminant_analysis import LinearDiscriminantAnalysis\n",
    "from sklearn.linear_model import LogisticRegression\n",
    "from sklearn.neighbors import KNeighborsClassifier\n",
    "from sklearn.tree import DecisionTreeClassifier\n",
    "from sklearn.model_selection import train_test_split\n",
    "models = []\n",
    "models.append(('LR', LogisticRegression(solver='liblinear', multi_class='ovr')))\n",
    "models.append(('LDA', LinearDiscriminantAnalysis()))\n",
    "models.append(('KNN', KNeighborsClassifier()))\n",
    "models.append(('CART', DecisionTreeClassifier()))\n",
    "results = []\n",
    "names = []\n",
    "for name, model in models:\n",
    "    kfold = StratifiedKFold(n_splits=10, random_state=1, shuffle=True)\n",
    "    cv_results = cross_val_score(model, X_train, y_train, cv=kfold, scoring='accuracy')\n",
    "    results.append(cv_results)\n",
    "    names.append(name)\n",
    "    print(f\"{name}: Mean Accuracy: {cv_results.mean()}, Std Dev: {cv_results.std()}\")\n",
    "\n"
   ]
  },
  {
   "cell_type": "markdown",
   "id": "109efac5-bfde-470c-a591-fc7a08f1ad8f",
   "metadata": {},
   "source": [
    "Cross validation, which is the best model to use "
   ]
  },
  {
   "cell_type": "code",
   "execution_count": 27,
   "id": "bd6997dd-a9e2-4462-b671-0711d9a73a83",
   "metadata": {},
   "outputs": [],
   "source": [
    "model = KNeighborsClassifier()\n",
    "model.fit(X_train, y_train)\n",
    "predictions = model.predict(X_validation)"
   ]
  },
  {
   "cell_type": "code",
   "execution_count": 28,
   "id": "33bf825c-8a52-426f-bca6-ea7bb2398f25",
   "metadata": {},
   "outputs": [
    {
     "name": "stdout",
     "output_type": "stream",
     "text": [
      "0.8747044917257684\n",
      "[[ 41  32]\n",
      " [ 21 329]]\n"
     ]
    }
   ],
   "source": [
    "from sklearn.metrics import accuracy_score, confusion_matrix\n",
    "print(accuracy_score(y_validation, predictions))\n",
    "print(confusion_matrix(y_validation, predictions))\n"
   ]
  },
  {
   "cell_type": "code",
   "execution_count": 29,
   "id": "ada21ee1-c7c0-4714-825c-d47b91fc3939",
   "metadata": {},
   "outputs": [
    {
     "name": "stdout",
     "output_type": "stream",
     "text": [
      "Accuracy: 0.8963270142180095\n"
     ]
    },
    {
     "data": {
      "image/png": "[encoded data removed]",
      "text/plain": [
       "<Figure size 640x480 with 2 Axes>"
      ]
     },
     "metadata": {},
     "output_type": "display_data"
    }
   ],
   "source": [
    "from sklearn.neighbors import KNeighborsClassifier\n",
    "from sklearn.model_selection import train_test_split\n",
    "from sklearn.metrics import accuracy_score, confusion_matrix\n",
    "import matplotlib.pyplot as plt\n",
    "import seaborn as sns\n",
    "knn = KNeighborsClassifier()\n",
    "knn.fit(X_train, y_train)\n",
    "y_pred = knn.predict(X_train)\n",
    "accuracy = accuracy_score(y_train, y_pred)\n",
    "print(\"Accuracy:\", accuracy)\n",
    "cm = confusion_matrix(y_train, y_pred)\n",
    "sns.heatmap(cm, annot=True, fmt='d', cmap='Blues')\n",
    "plt.xlabel('Predicted labels')\n",
    "plt.ylabel('True labels')\n",
    "plt.title('Confusion Matrix for KNN Model')\n",
    "plt.show()\n"
   ]
  },
  {
   "cell_type": "markdown",
   "id": "9737f2b5-ec3f-4e2e-9dd0-f4cb3fe93743",
   "metadata": {},
   "source": [
    "KNN shows accuracy score of 89% for trining data"
   ]
  },
  {
   "cell_type": "code",
   "execution_count": 30,
   "id": "8eb868de-1dc6-431c-ad68-f76c799d291f",
   "metadata": {
    "scrolled": true
   },
   "outputs": [
    {
     "data": {
      "image/png": "[encoded data removed]",
      "text/plain": [
       "<Figure size 1000x500 with 1 Axes>"
      ]
     },
     "metadata": {},
     "output_type": "display_data"
    }
   ],
   "source": [
    "from sklearn.tree import DecisionTreeClassifier, plot_tree\n",
    "from sklearn.model_selection import train_test_split\n",
    "import matplotlib.pyplot as plt\n",
    "dt_classifier = DecisionTreeClassifier()\n",
    "dt_classifier.fit(X_train, y_train)\n",
    "plt.figure(figsize=(10, 5))\n",
    "plot_tree(dt_classifier, feature_names=['PC1', 'PC2'], class_names=['No', 'Yes'], filled=True)\n",
    "plt.title('Decision Tree Classifier')\n",
    "plt.show()\n"
   ]
  },
  {
   "cell_type": "code",
   "execution_count": 31,
   "id": "c0eaca62-5919-4569-bf3a-8b2f903da7d3",
   "metadata": {},
   "outputs": [
    {
     "name": "stdout",
     "output_type": "stream",
     "text": [
      "Accuracy on Training Data: 0.9988151658767772\n"
     ]
    }
   ],
   "source": [
    "accuracy_train = dt_classifier.score(X_train, y_train)\n",
    "print(\"Accuracy on Training Data:\", accuracy_train)\n"
   ]
  },
  {
   "cell_type": "markdown",
   "id": "c1a09cd6-777c-4dbc-b59d-f294d82631a3",
   "metadata": {},
   "source": [
    "also used the decision tree classifer, using X_train and y_train"
   ]
  },
  {
   "cell_type": "code",
   "execution_count": 32,
   "id": "6cb58d7c-2c8b-4bd1-bf28-ca034d9cbb00",
   "metadata": {},
   "outputs": [],
   "source": [
    "from sklearn.ensemble import RandomForestClassifier\n",
    "rfc = RandomForestClassifier(bootstrap=True,\n",
    "                             max_depth=10,\n",
    "                             min_samples_leaf=100, \n",
    "                             \n",
    "                             max_features=10,\n",
    "                             n_estimators=100)"
   ]
  },
  {
   "cell_type": "code",
   "execution_count": 33,
   "id": "5257326d-6b96-4e5c-b8df-7d9ff7800602",
   "metadata": {
    "scrolled": true
   },
   "outputs": [
    {
     "data": {
      "text/html": [
       "<style>#sk-container-id-1 {color: black;}#sk-container-id-1 pre{padding: 0;}#sk-container-id-1 div.sk-toggleable {background-color: white;}#sk-container-id-1 label.sk-toggleable__label {cursor: pointer;display: block;width: 100%;margin-bottom: 0;padding: 0.3em;box-sizing: border-box;text-align: center;}#sk-container-id-1 label.sk-toggleable__label-arrow:before {content: \"▸\";float: left;margin-right: 0.25em;color: #696969;}#sk-container-id-1 label.sk-toggleable__label-arrow:hover:before {color: black;}#sk-container-id-1 div.sk-estimator:hover label.sk-toggleable__label-arrow:before {color: black;}#sk-container-id-1 div.sk-toggleable__content {max-height: 0;max-width: 0;overflow: hidden;text-align: left;background-color: #f0f8ff;}#sk-container-id-1 div.sk-toggleable__content pre {margin: 0.2em;color: black;border-radius: 0.25em;background-color: #f0f8ff;}#sk-container-id-1 input.sk-toggleable__control:checked~div.sk-toggleable__content {max-height: 200px;max-width: 100%;overflow: auto;}#sk-container-id-1 input.sk-toggleable__control:checked~label.sk-toggleable__label-arrow:before {content: \"▾\";}#sk-container-id-1 div.sk-estimator input.sk-toggleable__control:checked~label.sk-toggleable__label {background-color: #d4ebff;}#sk-container-id-1 div.sk-label input.sk-toggleable__control:checked~label.sk-toggleable__label {background-color: #d4ebff;}#sk-container-id-1 input.sk-hidden--visually {border: 0;clip: rect(1px 1px 1px 1px);clip: rect(1px, 1px, 1px, 1px);height: 1px;margin: -1px;overflow: hidden;padding: 0;position: absolute;width: 1px;}#sk-container-id-1 div.sk-estimator {font-family: monospace;background-color: #f0f8ff;border: 1px dotted black;border-radius: 0.25em;box-sizing: border-box;margin-bottom: 0.5em;}#sk-container-id-1 div.sk-estimator:hover {background-color: #d4ebff;}#sk-container-id-1 div.sk-parallel-item::after {content: \"\";width: 100%;border-bottom: 1px solid gray;flex-grow: 1;}#sk-container-id-1 div.sk-label:hover label.sk-toggleable__label {background-color: #d4ebff;}#sk-container-id-1 div.sk-serial::before {content: \"\";position: absolute;border-left: 1px solid gray;box-sizing: border-box;top: 0;bottom: 0;left: 50%;z-index: 0;}#sk-container-id-1 div.sk-serial {display: flex;flex-direction: column;align-items: center;background-color: white;padding-right: 0.2em;padding-left: 0.2em;position: relative;}#sk-container-id-1 div.sk-item {position: relative;z-index: 1;}#sk-container-id-1 div.sk-parallel {display: flex;align-items: stretch;justify-content: center;background-color: white;position: relative;}#sk-container-id-1 div.sk-item::before, #sk-container-id-1 div.sk-parallel-item::before {content: \"\";position: absolute;border-left: 1px solid gray;box-sizing: border-box;top: 0;bottom: 0;left: 50%;z-index: -1;}#sk-container-id-1 div.sk-parallel-item {display: flex;flex-direction: column;z-index: 1;position: relative;background-color: white;}#sk-container-id-1 div.sk-parallel-item:first-child::after {align-self: flex-end;width: 50%;}#sk-container-id-1 div.sk-parallel-item:last-child::after {align-self: flex-start;width: 50%;}#sk-container-id-1 div.sk-parallel-item:only-child::after {width: 0;}#sk-container-id-1 div.sk-dashed-wrapped {border: 1px dashed gray;margin: 0 0.4em 0.5em 0.4em;box-sizing: border-box;padding-bottom: 0.4em;background-color: white;}#sk-container-id-1 div.sk-label label {font-family: monospace;font-weight: bold;display: inline-block;line-height: 1.2em;}#sk-container-id-1 div.sk-label-container {text-align: center;}#sk-container-id-1 div.sk-container {/* jupyter's `normalize.less` sets `[hidden] { display: none; }` but bootstrap.min.css set `[hidden] { display: none !important; }` so we also need the `!important` here to be able to override the default hidden behavior on the sphinx rendered scikit-learn.org. See: https://github.com/scikit-learn/scikit-learn/issues/21755 */display: inline-block !important;position: relative;}#sk-container-id-1 div.sk-text-repr-fallback {display: none;}</style><div id=\"sk-container-id-1\" class=\"sk-top-container\"><div class=\"sk-text-repr-fallback\"><pre>RandomForestClassifier(max_depth=10, max_features=10, min_samples_leaf=100)</pre><b>In a Jupyter environment, please rerun this cell to show the HTML representation or trust the notebook. <br />On GitHub, the HTML representation is unable to render, please try loading this page with nbviewer.org.</b></div><div class=\"sk-container\" hidden><div class=\"sk-item\"><div class=\"sk-estimator sk-toggleable\"><input class=\"sk-toggleable__control sk-hidden--visually\" id=\"sk-estimator-id-1\" type=\"checkbox\" checked><label for=\"sk-estimator-id-1\" class=\"sk-toggleable__label sk-toggleable__label-arrow\">RandomForestClassifier</label><div class=\"sk-toggleable__content\"><pre>RandomForestClassifier(max_depth=10, max_features=10, min_samples_leaf=100)</pre></div></div></div></div></div>"
      ],
      "text/plain": [
       "RandomForestClassifier(max_depth=10, max_features=10, min_samples_leaf=100)"
      ]
     },
     "execution_count": 33,
     "metadata": {},
     "output_type": "execute_result"
    }
   ],
   "source": [
    "rfc.fit(X_train, y_train)\n",
    "\n"
   ]
  },
  {
   "cell_type": "code",
   "execution_count": 34,
   "id": "7e5f25c8-ce69-42d8-9778-c03924ecaf62",
   "metadata": {
    "scrolled": true
   },
   "outputs": [],
   "source": [
    "predictions = rfc.predict(X_train)"
   ]
  },
  {
   "cell_type": "code",
   "execution_count": 35,
   "id": "3a67a3c6-4eba-4e4a-b29f-707e5abbcd9e",
   "metadata": {},
   "outputs": [],
   "source": [
    "from sklearn.metrics import classification_report,confusion_matrix"
   ]
  },
  {
   "cell_type": "code",
   "execution_count": 36,
   "id": "01be88cd-6e32-4e3e-bb81-59539e8d76a8",
   "metadata": {},
   "outputs": [
    {
     "name": "stdout",
     "output_type": "stream",
     "text": [
      "              precision    recall  f1-score   support\n",
      "\n",
      "           0       0.67      0.36      0.47       312\n",
      "           1       0.87      0.96      0.91      1376\n",
      "\n",
      "    accuracy                           0.85      1688\n",
      "   macro avg       0.77      0.66      0.69      1688\n",
      "weighted avg       0.83      0.85      0.83      1688\n",
      "\n"
     ]
    }
   ],
   "source": [
    "print(classification_report(y_train,predictions))"
   ]
  },
  {
   "cell_type": "markdown",
   "id": "4e1d2611-c2ba-491b-8aa1-0df61c90d4e5",
   "metadata": {},
   "source": [
    "here we can see the recall and weighted average score"
   ]
  },
  {
   "cell_type": "code",
   "execution_count": 37,
   "id": "309d454e-e5bc-4023-bff8-7a7d5e0fcd81",
   "metadata": {
    "scrolled": true
   },
   "outputs": [
    {
     "name": "stdout",
     "output_type": "stream",
     "text": [
      "[[ 113  199]\n",
      " [  56 1320]]\n"
     ]
    }
   ],
   "source": [
    "print(confusion_matrix(y_train,predictions))"
   ]
  },
  {
   "cell_type": "code",
   "execution_count": 52,
   "id": "38a2ad45-f332-4b00-899e-aab050962e0a",
   "metadata": {
    "scrolled": true
   },
   "outputs": [
    {
     "name": "stdout",
     "output_type": "stream",
     "text": [
      "Accuracy on Training Data: 0.8538704581358609\n"
     ]
    },
    {
     "data": {
      "image/png": "[encoded data removed]",
      "text/plain": [
       "<Figure size 800x600 with 2 Axes>"
      ]
     },
     "metadata": {},
     "output_type": "display_data"
    }
   ],
   "source": [
    "X_train, X_test, y_train, y_test = train_test_split(X, y, test_size=0.3, random_state=42)\n",
    "rf_classifier = RandomForestClassifier()\n",
    "rf_classifier.fit(X_train, y_train)\n",
    "y_pred_train = rf_classifier.predict(X_train)\n",
    "print(\"Accuracy on Training Data:\", accuracy_train)\n",
    "cm_train = confusion_matrix(y_train, y_pred_train)\n",
    "plt.figure(figsize=(8, 6))\n",
    "sns.heatmap(cm_train, annot=True, fmt='d', cmap='Blues')\n",
    "plt.xlabel('Predicted labels')\n",
    "plt.ylabel('True labels')\n",
    "plt.title('Confusion Matrix for RandomForestClassifier (Training Data)')\n",
    "plt.show()\n"
   ]
  },
  {
   "cell_type": "markdown",
   "id": "d0a179ad-27d3-4c07-8237-3d6292493da5",
   "metadata": {},
   "source": [
    "Here we used the confusing matrix for training data but changed the test ration to 70/30"
   ]
  },
  {
   "cell_type": "code",
   "execution_count": 53,
   "id": "51e3f462-2667-45a1-8555-7f8f90d137e9",
   "metadata": {},
   "outputs": [
    {
     "name": "stdout",
     "output_type": "stream",
     "text": [
      "Accuracy on Training Data: 0.8578199052132701\n"
     ]
    },
    {
     "data": {
      "image/png": "[encoded data removed]",
      "text/plain": [
       "<Figure size 600x400 with 2 Axes>"
      ]
     },
     "metadata": {},
     "output_type": "display_data"
    }
   ],
   "source": [
    "X_train, X_test, y_train, y_test = train_test_split(X, y, test_size=0.4, random_state=42)\n",
    "rf_classifier = RandomForestClassifier()\n",
    "rf_classifier.fit(X_test, y_test)\n",
    "y_pred_train = rf_classifier.predict(X_train)\n",
    "accuracy_train = accuracy_score(y_train, y_pred_train)\n",
    "print(\"Accuracy on Training Data:\", accuracy_train)\n",
    "cm_train = confusion_matrix(y_train, y_pred_train)\n",
    "plt.figure(figsize=(6, 4))\n",
    "sns.heatmap(cm_train, annot=True, fmt='d', cmap='Blues')\n",
    "plt.xlabel('Predicted labels')\n",
    "plt.ylabel('True labels')\n",
    "plt.title('Confusion Matrix for RandomForestClassifier (Testing Data)')\n",
    "plt.show()"
   ]
  },
  {
   "cell_type": "markdown",
   "id": "2dc370e6-ed06-48cd-8fa8-042f640d172e",
   "metadata": {},
   "source": [
    "testing data using 60/40"
   ]
  },
  {
   "cell_type": "code",
   "execution_count": 54,
   "id": "04062c46-bb1a-44ec-8406-a9ac420c5296",
   "metadata": {},
   "outputs": [
    {
     "name": "stdout",
     "output_type": "stream",
     "text": [
      "Best Parameters: {'max_depth': 30, 'min_samples_leaf': 4, 'min_samples_split': 2, 'n_estimators': 50}\n",
      "Accuracy on Test Data: 0.9069400630914827\n"
     ]
    }
   ],
   "source": [
    "from sklearn.model_selection import GridSearchCV\n",
    "X_train, X_test, y_train, y_test = train_test_split(X, y, test_size=0.3, random_state=42)\n",
    "param_grid = {\n",
    "    'n_estimators': [50, 100, 150],\n",
    "    'max_depth': [None, 10, 20, 30],\n",
    "    'min_samples_split': [2, 5, 10],\n",
    "    'min_samples_leaf': [1, 2, 4]\n",
    "}\n",
    "rf_classifier = RandomForestClassifier()\n",
    "grid_search = GridSearchCV(estimator=rf_classifier, param_grid=param_grid, cv=5, scoring='accuracy')\n",
    "grid_search.fit(X_test, y_test)\n",
    "print(\"Best Parameters:\", grid_search.best_params_)\n",
    "best_rf = grid_search.best_estimator_\n",
    "y_pred_test = best_rf.predict(X_test)\n",
    "accuracy_test = accuracy_score(y_test, y_pred_test)\n",
    "print(\"Accuracy on Test Data:\", accuracy_test)\n"
   ]
  },
  {
   "cell_type": "code",
   "execution_count": 55,
   "id": "fd7ba6d4-7515-4759-9b8d-12857a4036a0",
   "metadata": {},
   "outputs": [
    {
     "name": "stdout",
     "output_type": "stream",
     "text": [
      "Accuracy on Test Data: 0.9069400630914827\n"
     ]
    }
   ],
   "source": [
    "print(\"Accuracy on Test Data:\", accuracy_test)"
   ]
  }
 ],
 "metadata": {
  "kernelspec": {
   "display_name": "Python 3 (ipykernel)",
   "language": "python",
   "name": "python3"
  },
  "language_info": {
   "codemirror_mode": {
    "name": "ipython",
    "version": 3
   },
   "file_extension": ".py",
   "mimetype": "text/x-python",
   "name": "python",
   "nbconvert_exporter": "python",
   "pygments_lexer": "ipython3",
   "version": "3.11.5"
  }
 },
 "nbformat": 4,
 "nbformat_minor": 5
}
